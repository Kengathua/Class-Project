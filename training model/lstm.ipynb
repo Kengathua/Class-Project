{
 "cells": [
  {
   "cell_type": "code",
   "execution_count": 5,
   "id": "4cc8893e-710d-4bc6-8060-321928549f19",
   "metadata": {},
   "outputs": [],
   "source": [
    "import pandas as pd\n",
    "import numpy as np\n",
    "import matplotlib.pyplot as plt\n",
    "import datetime\n",
    "\n",
    "df = pd.read_csv('testdata.csv', index_col = 'Date', parse_dates=True)"
   ]
  },
  {
   "cell_type": "code",
   "execution_count": 6,
   "metadata": {},
   "outputs": [
    {
     "data": {
      "text/html": [
       "<div>\n",
       "<style scoped>\n",
       "    .dataframe tbody tr th:only-of-type {\n",
       "        vertical-align: middle;\n",
       "    }\n",
       "\n",
       "    .dataframe tbody tr th {\n",
       "        vertical-align: top;\n",
       "    }\n",
       "\n",
       "    .dataframe thead th {\n",
       "        text-align: right;\n",
       "    }\n",
       "</style>\n",
       "<table border=\"1\" class=\"dataframe\">\n",
       "  <thead>\n",
       "    <tr style=\"text-align: right;\">\n",
       "      <th></th>\n",
       "      <th>Open</th>\n",
       "      <th>High</th>\n",
       "      <th>Low</th>\n",
       "      <th>Close</th>\n",
       "      <th>Adj Close</th>\n",
       "      <th>Volume</th>\n",
       "    </tr>\n",
       "    <tr>\n",
       "      <th>Date</th>\n",
       "      <th></th>\n",
       "      <th></th>\n",
       "      <th></th>\n",
       "      <th></th>\n",
       "      <th></th>\n",
       "      <th></th>\n",
       "    </tr>\n",
       "  </thead>\n",
       "  <tbody>\n",
       "    <tr>\n",
       "      <th>2007-09-18</th>\n",
       "      <td>4494.100098</td>\n",
       "      <td>4551.799805</td>\n",
       "      <td>4481.549805</td>\n",
       "      <td>4546.200195</td>\n",
       "      <td>4546.200195</td>\n",
       "      <td>0.0</td>\n",
       "    </tr>\n",
       "    <tr>\n",
       "      <th>2007-09-19</th>\n",
       "      <td>4550.250000</td>\n",
       "      <td>4739.000000</td>\n",
       "      <td>4550.250000</td>\n",
       "      <td>4732.350098</td>\n",
       "      <td>4732.350098</td>\n",
       "      <td>0.0</td>\n",
       "    </tr>\n",
       "    <tr>\n",
       "      <th>2007-09-20</th>\n",
       "      <td>4734.850098</td>\n",
       "      <td>4760.850098</td>\n",
       "      <td>4721.149902</td>\n",
       "      <td>4747.549805</td>\n",
       "      <td>4747.549805</td>\n",
       "      <td>0.0</td>\n",
       "    </tr>\n",
       "    <tr>\n",
       "      <th>2007-09-21</th>\n",
       "      <td>4752.950195</td>\n",
       "      <td>4855.700195</td>\n",
       "      <td>4733.700195</td>\n",
       "      <td>4837.549805</td>\n",
       "      <td>4837.549805</td>\n",
       "      <td>0.0</td>\n",
       "    </tr>\n",
       "    <tr>\n",
       "      <th>2007-09-24</th>\n",
       "      <td>4837.149902</td>\n",
       "      <td>4941.149902</td>\n",
       "      <td>4837.149902</td>\n",
       "      <td>4932.200195</td>\n",
       "      <td>4932.200195</td>\n",
       "      <td>0.0</td>\n",
       "    </tr>\n",
       "  </tbody>\n",
       "</table>\n",
       "</div>"
      ],
      "text/plain": [
       "                   Open         High          Low        Close    Adj Close  \\\n",
       "Date                                                                          \n",
       "2007-09-18  4494.100098  4551.799805  4481.549805  4546.200195  4546.200195   \n",
       "2007-09-19  4550.250000  4739.000000  4550.250000  4732.350098  4732.350098   \n",
       "2007-09-20  4734.850098  4760.850098  4721.149902  4747.549805  4747.549805   \n",
       "2007-09-21  4752.950195  4855.700195  4733.700195  4837.549805  4837.549805   \n",
       "2007-09-24  4837.149902  4941.149902  4837.149902  4932.200195  4932.200195   \n",
       "\n",
       "            Volume  \n",
       "Date                \n",
       "2007-09-18     0.0  \n",
       "2007-09-19     0.0  \n",
       "2007-09-20     0.0  \n",
       "2007-09-21     0.0  \n",
       "2007-09-24     0.0  "
      ]
     },
     "execution_count": 6,
     "metadata": {},
     "output_type": "execute_result"
    }
   ],
   "source": [
    "df.head()"
   ]
  },
  {
   "cell_type": "code",
   "execution_count": 7,
   "metadata": {},
   "outputs": [
    {
     "data": {
      "text/html": [
       "<div>\n",
       "<style scoped>\n",
       "    .dataframe tbody tr th:only-of-type {\n",
       "        vertical-align: middle;\n",
       "    }\n",
       "\n",
       "    .dataframe tbody tr th {\n",
       "        vertical-align: top;\n",
       "    }\n",
       "\n",
       "    .dataframe thead th {\n",
       "        text-align: right;\n",
       "    }\n",
       "</style>\n",
       "<table border=\"1\" class=\"dataframe\">\n",
       "  <thead>\n",
       "    <tr style=\"text-align: right;\">\n",
       "      <th></th>\n",
       "      <th>Open</th>\n",
       "      <th>High</th>\n",
       "      <th>Low</th>\n",
       "      <th>Close</th>\n",
       "      <th>Adj Close</th>\n",
       "      <th>Volume</th>\n",
       "    </tr>\n",
       "    <tr>\n",
       "      <th>Date</th>\n",
       "      <th></th>\n",
       "      <th></th>\n",
       "      <th></th>\n",
       "      <th></th>\n",
       "      <th></th>\n",
       "      <th></th>\n",
       "    </tr>\n",
       "  </thead>\n",
       "  <tbody>\n",
       "    <tr>\n",
       "      <th>2021-09-29</th>\n",
       "      <td>17657.949219</td>\n",
       "      <td>17781.750000</td>\n",
       "      <td>17608.150391</td>\n",
       "      <td>17711.300781</td>\n",
       "      <td>17711.300781</td>\n",
       "      <td>562200.0</td>\n",
       "    </tr>\n",
       "    <tr>\n",
       "      <th>2021-09-30</th>\n",
       "      <td>17718.900391</td>\n",
       "      <td>17742.150391</td>\n",
       "      <td>17585.349609</td>\n",
       "      <td>17618.150391</td>\n",
       "      <td>17618.150391</td>\n",
       "      <td>378600.0</td>\n",
       "    </tr>\n",
       "    <tr>\n",
       "      <th>2021-10-01</th>\n",
       "      <td>17531.900391</td>\n",
       "      <td>17557.150391</td>\n",
       "      <td>17452.900391</td>\n",
       "      <td>17532.050781</td>\n",
       "      <td>17532.050781</td>\n",
       "      <td>305800.0</td>\n",
       "    </tr>\n",
       "    <tr>\n",
       "      <th>2021-10-04</th>\n",
       "      <td>17615.550781</td>\n",
       "      <td>17750.900391</td>\n",
       "      <td>17581.349609</td>\n",
       "      <td>17691.250000</td>\n",
       "      <td>17691.250000</td>\n",
       "      <td>295800.0</td>\n",
       "    </tr>\n",
       "    <tr>\n",
       "      <th>2021-10-05</th>\n",
       "      <td>17661.349609</td>\n",
       "      <td>17833.449219</td>\n",
       "      <td>17640.900391</td>\n",
       "      <td>17822.300781</td>\n",
       "      <td>17822.300781</td>\n",
       "      <td>0.0</td>\n",
       "    </tr>\n",
       "  </tbody>\n",
       "</table>\n",
       "</div>"
      ],
      "text/plain": [
       "                    Open          High           Low         Close  \\\n",
       "Date                                                                 \n",
       "2021-09-29  17657.949219  17781.750000  17608.150391  17711.300781   \n",
       "2021-09-30  17718.900391  17742.150391  17585.349609  17618.150391   \n",
       "2021-10-01  17531.900391  17557.150391  17452.900391  17532.050781   \n",
       "2021-10-04  17615.550781  17750.900391  17581.349609  17691.250000   \n",
       "2021-10-05  17661.349609  17833.449219  17640.900391  17822.300781   \n",
       "\n",
       "               Adj Close    Volume  \n",
       "Date                                \n",
       "2021-09-29  17711.300781  562200.0  \n",
       "2021-09-30  17618.150391  378600.0  \n",
       "2021-10-01  17532.050781  305800.0  \n",
       "2021-10-04  17691.250000  295800.0  \n",
       "2021-10-05  17822.300781       0.0  "
      ]
     },
     "execution_count": 7,
     "metadata": {},
     "output_type": "execute_result"
    }
   ],
   "source": [
    "df.tail()"
   ]
  },
  {
   "cell_type": "code",
   "execution_count": 8,
   "id": "2952a46d-e269-4628-865e-7d99d2bfba31",
   "metadata": {},
   "outputs": [
    {
     "data": {
      "text/plain": [
       "Open         True\n",
       "High         True\n",
       "Low          True\n",
       "Close        True\n",
       "Adj Close    True\n",
       "Volume       True\n",
       "dtype: bool"
      ]
     },
     "execution_count": 8,
     "metadata": {},
     "output_type": "execute_result"
    }
   ],
   "source": [
    "df.isna().any()"
   ]
  },
  {
   "cell_type": "code",
   "execution_count": 9,
   "metadata": {},
   "outputs": [
    {
     "name": "stdout",
     "output_type": "stream",
     "text": [
      "<class 'pandas.core.frame.DataFrame'>\n",
      "DatetimeIndex: 3468 entries, 2007-09-18 to 2021-10-05\n",
      "Data columns (total 6 columns):\n",
      " #   Column     Non-Null Count  Dtype  \n",
      "---  ------     --------------  -----  \n",
      " 0   Open       3432 non-null   float64\n",
      " 1   High       3432 non-null   float64\n",
      " 2   Low        3432 non-null   float64\n",
      " 3   Close      3432 non-null   float64\n",
      " 4   Adj Close  3432 non-null   float64\n",
      " 5   Volume     3432 non-null   float64\n",
      "dtypes: float64(6)\n",
      "memory usage: 189.7 KB\n"
     ]
    }
   ],
   "source": [
    "df.info()"
   ]
  },
  {
   "cell_type": "code",
   "execution_count": 10,
   "metadata": {},
   "outputs": [
    {
     "data": {
      "text/plain": [
       "<AxesSubplot:xlabel='Date'>"
      ]
     },
     "execution_count": 10,
     "metadata": {},
     "output_type": "execute_result"
    },
    {
     "data": {
      "image/png": "[encoded data removed]",
      "text/plain": [
       "<Figure size 1152x432 with 1 Axes>"
      ]
     },
     "metadata": {
      "needs_background": "light"
     },
     "output_type": "display_data"
    }
   ],
   "source": [
    "df['Open'].plot(figsize=(16,6))"
   ]
  },
  {
   "cell_type": "code",
   "execution_count": 11,
   "metadata": {},
   "outputs": [
    {
     "data": {
      "text/html": [
       "<div>\n",
       "<style scoped>\n",
       "    .dataframe tbody tr th:only-of-type {\n",
       "        vertical-align: middle;\n",
       "    }\n",
       "\n",
       "    .dataframe tbody tr th {\n",
       "        vertical-align: top;\n",
       "    }\n",
       "\n",
       "    .dataframe thead th {\n",
       "        text-align: right;\n",
       "    }\n",
       "</style>\n",
       "<table border=\"1\" class=\"dataframe\">\n",
       "  <thead>\n",
       "    <tr style=\"text-align: right;\">\n",
       "      <th></th>\n",
       "      <th>Open</th>\n",
       "      <th>High</th>\n",
       "      <th>Low</th>\n",
       "      <th>Close</th>\n",
       "      <th>Adj Close</th>\n",
       "      <th>Volume</th>\n",
       "    </tr>\n",
       "    <tr>\n",
       "      <th>Date</th>\n",
       "      <th></th>\n",
       "      <th></th>\n",
       "      <th></th>\n",
       "      <th></th>\n",
       "      <th></th>\n",
       "      <th></th>\n",
       "    </tr>\n",
       "  </thead>\n",
       "  <tbody>\n",
       "    <tr>\n",
       "      <th>2007-09-18</th>\n",
       "      <td>4494.100098</td>\n",
       "      <td>4551.799805</td>\n",
       "      <td>4481.549805</td>\n",
       "      <td>4546.200195</td>\n",
       "      <td>4546.200195</td>\n",
       "      <td>0.0</td>\n",
       "    </tr>\n",
       "    <tr>\n",
       "      <th>2007-09-19</th>\n",
       "      <td>4550.250000</td>\n",
       "      <td>4739.000000</td>\n",
       "      <td>4550.250000</td>\n",
       "      <td>4732.350098</td>\n",
       "      <td>4732.350098</td>\n",
       "      <td>0.0</td>\n",
       "    </tr>\n",
       "    <tr>\n",
       "      <th>2007-09-20</th>\n",
       "      <td>4734.850098</td>\n",
       "      <td>4760.850098</td>\n",
       "      <td>4721.149902</td>\n",
       "      <td>4747.549805</td>\n",
       "      <td>4747.549805</td>\n",
       "      <td>0.0</td>\n",
       "    </tr>\n",
       "    <tr>\n",
       "      <th>2007-09-21</th>\n",
       "      <td>4752.950195</td>\n",
       "      <td>4855.700195</td>\n",
       "      <td>4733.700195</td>\n",
       "      <td>4837.549805</td>\n",
       "      <td>4837.549805</td>\n",
       "      <td>0.0</td>\n",
       "    </tr>\n",
       "    <tr>\n",
       "      <th>2007-09-24</th>\n",
       "      <td>4837.149902</td>\n",
       "      <td>4941.149902</td>\n",
       "      <td>4837.149902</td>\n",
       "      <td>4932.200195</td>\n",
       "      <td>4932.200195</td>\n",
       "      <td>0.0</td>\n",
       "    </tr>\n",
       "    <tr>\n",
       "      <th>2007-09-25</th>\n",
       "      <td>4939.100098</td>\n",
       "      <td>4953.899902</td>\n",
       "      <td>4878.149902</td>\n",
       "      <td>4938.850098</td>\n",
       "      <td>4938.850098</td>\n",
       "      <td>0.0</td>\n",
       "    </tr>\n",
       "    <tr>\n",
       "      <th>2007-09-26</th>\n",
       "      <td>4937.600098</td>\n",
       "      <td>4980.850098</td>\n",
       "      <td>4930.350098</td>\n",
       "      <td>4940.500000</td>\n",
       "      <td>4940.500000</td>\n",
       "      <td>0.0</td>\n",
       "    </tr>\n",
       "    <tr>\n",
       "      <th>2007-09-27</th>\n",
       "      <td>4942.700195</td>\n",
       "      <td>5016.399902</td>\n",
       "      <td>4942.700195</td>\n",
       "      <td>5000.549805</td>\n",
       "      <td>5000.549805</td>\n",
       "      <td>0.0</td>\n",
       "    </tr>\n",
       "    <tr>\n",
       "      <th>2007-09-28</th>\n",
       "      <td>4996.450195</td>\n",
       "      <td>5055.799805</td>\n",
       "      <td>4996.450195</td>\n",
       "      <td>5021.350098</td>\n",
       "      <td>5021.350098</td>\n",
       "      <td>0.0</td>\n",
       "    </tr>\n",
       "    <tr>\n",
       "      <th>2007-10-01</th>\n",
       "      <td>5021.500000</td>\n",
       "      <td>5089.299805</td>\n",
       "      <td>5001.350098</td>\n",
       "      <td>5068.950195</td>\n",
       "      <td>5068.950195</td>\n",
       "      <td>0.0</td>\n",
       "    </tr>\n",
       "    <tr>\n",
       "      <th>2007-10-03</th>\n",
       "      <td>5069.000000</td>\n",
       "      <td>5261.350098</td>\n",
       "      <td>5034.149902</td>\n",
       "      <td>5210.799805</td>\n",
       "      <td>5210.799805</td>\n",
       "      <td>0.0</td>\n",
       "    </tr>\n",
       "    <tr>\n",
       "      <th>2007-10-04</th>\n",
       "      <td>5211.649902</td>\n",
       "      <td>5233.100098</td>\n",
       "      <td>5126.049805</td>\n",
       "      <td>5208.649902</td>\n",
       "      <td>5208.649902</td>\n",
       "      <td>0.0</td>\n",
       "    </tr>\n",
       "    <tr>\n",
       "      <th>2007-10-05</th>\n",
       "      <td>5208.149902</td>\n",
       "      <td>5248.549805</td>\n",
       "      <td>5164.500000</td>\n",
       "      <td>5185.850098</td>\n",
       "      <td>5185.850098</td>\n",
       "      <td>0.0</td>\n",
       "    </tr>\n",
       "    <tr>\n",
       "      <th>2007-10-08</th>\n",
       "      <td>5186.250000</td>\n",
       "      <td>5249.299805</td>\n",
       "      <td>5024.750000</td>\n",
       "      <td>5085.100098</td>\n",
       "      <td>5085.100098</td>\n",
       "      <td>0.0</td>\n",
       "    </tr>\n",
       "    <tr>\n",
       "      <th>2007-10-09</th>\n",
       "      <td>5062.649902</td>\n",
       "      <td>5348.700195</td>\n",
       "      <td>5000.950195</td>\n",
       "      <td>5327.250000</td>\n",
       "      <td>5327.250000</td>\n",
       "      <td>0.0</td>\n",
       "    </tr>\n",
       "    <tr>\n",
       "      <th>2007-10-10</th>\n",
       "      <td>5328.149902</td>\n",
       "      <td>5454.700195</td>\n",
       "      <td>5328.149902</td>\n",
       "      <td>5441.450195</td>\n",
       "      <td>5441.450195</td>\n",
       "      <td>0.0</td>\n",
       "    </tr>\n",
       "    <tr>\n",
       "      <th>2007-10-11</th>\n",
       "      <td>5438.899902</td>\n",
       "      <td>5532.750000</td>\n",
       "      <td>5424.250000</td>\n",
       "      <td>5524.850098</td>\n",
       "      <td>5524.850098</td>\n",
       "      <td>0.0</td>\n",
       "    </tr>\n",
       "    <tr>\n",
       "      <th>2007-10-12</th>\n",
       "      <td>5525.299805</td>\n",
       "      <td>5549.299805</td>\n",
       "      <td>5402.600098</td>\n",
       "      <td>5428.250000</td>\n",
       "      <td>5428.250000</td>\n",
       "      <td>0.0</td>\n",
       "    </tr>\n",
       "    <tr>\n",
       "      <th>2007-10-15</th>\n",
       "      <td>5428.350098</td>\n",
       "      <td>5682.649902</td>\n",
       "      <td>5419.899902</td>\n",
       "      <td>5670.399902</td>\n",
       "      <td>5670.399902</td>\n",
       "      <td>0.0</td>\n",
       "    </tr>\n",
       "    <tr>\n",
       "      <th>2007-10-16</th>\n",
       "      <td>5670.649902</td>\n",
       "      <td>5708.350098</td>\n",
       "      <td>5578.450195</td>\n",
       "      <td>5668.049805</td>\n",
       "      <td>5668.049805</td>\n",
       "      <td>0.0</td>\n",
       "    </tr>\n",
       "  </tbody>\n",
       "</table>\n",
       "</div>"
      ],
      "text/plain": [
       "                   Open         High          Low        Close    Adj Close  \\\n",
       "Date                                                                          \n",
       "2007-09-18  4494.100098  4551.799805  4481.549805  4546.200195  4546.200195   \n",
       "2007-09-19  4550.250000  4739.000000  4550.250000  4732.350098  4732.350098   \n",
       "2007-09-20  4734.850098  4760.850098  4721.149902  4747.549805  4747.549805   \n",
       "2007-09-21  4752.950195  4855.700195  4733.700195  4837.549805  4837.549805   \n",
       "2007-09-24  4837.149902  4941.149902  4837.149902  4932.200195  4932.200195   \n",
       "2007-09-25  4939.100098  4953.899902  4878.149902  4938.850098  4938.850098   \n",
       "2007-09-26  4937.600098  4980.850098  4930.350098  4940.500000  4940.500000   \n",
       "2007-09-27  4942.700195  5016.399902  4942.700195  5000.549805  5000.549805   \n",
       "2007-09-28  4996.450195  5055.799805  4996.450195  5021.350098  5021.350098   \n",
       "2007-10-01  5021.500000  5089.299805  5001.350098  5068.950195  5068.950195   \n",
       "2007-10-03  5069.000000  5261.350098  5034.149902  5210.799805  5210.799805   \n",
       "2007-10-04  5211.649902  5233.100098  5126.049805  5208.649902  5208.649902   \n",
       "2007-10-05  5208.149902  5248.549805  5164.500000  5185.850098  5185.850098   \n",
       "2007-10-08  5186.250000  5249.299805  5024.750000  5085.100098  5085.100098   \n",
       "2007-10-09  5062.649902  5348.700195  5000.950195  5327.250000  5327.250000   \n",
       "2007-10-10  5328.149902  5454.700195  5328.149902  5441.450195  5441.450195   \n",
       "2007-10-11  5438.899902  5532.750000  5424.250000  5524.850098  5524.850098   \n",
       "2007-10-12  5525.299805  5549.299805  5402.600098  5428.250000  5428.250000   \n",
       "2007-10-15  5428.350098  5682.649902  5419.899902  5670.399902  5670.399902   \n",
       "2007-10-16  5670.649902  5708.350098  5578.450195  5668.049805  5668.049805   \n",
       "\n",
       "            Volume  \n",
       "Date                \n",
       "2007-09-18     0.0  \n",
       "2007-09-19     0.0  \n",
       "2007-09-20     0.0  \n",
       "2007-09-21     0.0  \n",
       "2007-09-24     0.0  \n",
       "2007-09-25     0.0  \n",
       "2007-09-26     0.0  \n",
       "2007-09-27     0.0  \n",
       "2007-09-28     0.0  \n",
       "2007-10-01     0.0  \n",
       "2007-10-03     0.0  \n",
       "2007-10-04     0.0  \n",
       "2007-10-05     0.0  \n",
       "2007-10-08     0.0  \n",
       "2007-10-09     0.0  \n",
       "2007-10-10     0.0  \n",
       "2007-10-11     0.0  \n",
       "2007-10-12     0.0  \n",
       "2007-10-15     0.0  \n",
       "2007-10-16     0.0  "
      ]
     },
     "execution_count": 11,
     "metadata": {},
     "output_type": "execute_result"
    }
   ],
   "source": [
    "# converting the column \"a\" of a dataframe\n",
    "# df['Close'] = df['Close'].str.replace(',', '').astype(float)\n",
    "df['Close'] = df['Close'].replace(',', '').astype(float)\n",
    "df.head(20)"
   ]
  },
  {
   "cell_type": "code",
   "execution_count": 12,
   "metadata": {},
   "outputs": [
    {
     "data": {
      "text/plain": [
       "<AxesSubplot:xlabel='Date'>"
      ]
     },
     "execution_count": 12,
     "metadata": {},
     "output_type": "execute_result"
    },
    {
     "data": {
      "image/png": "[encoded data removed]",
      "text/plain": [
       "<Figure size 432x288 with 1 Axes>"
      ]
     },
     "metadata": {
      "needs_background": "light"
     },
     "output_type": "display_data"
    }
   ],
   "source": [
    "# Mean of a bracket of 7 days iterated everyday forward after the seventh day\n",
    "# df.rolling(7).mean().head(20)\n",
    "df.rolling(7).mean().head(20).plot()"
   ]
  },
  {
   "cell_type": "code",
   "execution_count": 13,
   "metadata": {},
   "outputs": [
    {
     "data": {
      "text/plain": [
       "<AxesSubplot:xlabel='Date'>"
      ]
     },
     "execution_count": 13,
     "metadata": {},
     "output_type": "execute_result"
    },
    {
     "data": {
      "image/png": "[encoded data removed]",
      "text/plain": [
       "<Figure size 1152x432 with 1 Axes>"
      ]
     },
     "metadata": {
      "needs_background": "light"
     },
     "output_type": "display_data"
    }
   ],
   "source": [
    "# Compare with open prices\n",
    "df['Open'].plot(figsize=(16, 6))\n",
    "df.rolling(window=30).mean()['Close'].plot()"
   ]
  },
  {
   "cell_type": "code",
   "execution_count": 14,
   "metadata": {},
   "outputs": [
    {
     "data": {
      "text/plain": [
       "<AxesSubplot:xlabel='Date'>"
      ]
     },
     "execution_count": 14,
     "metadata": {},
     "output_type": "execute_result"
    },
    {
     "data": {
      "image/png": "[encoded data removed]",
      "text/plain": [
       "<Figure size 1152x432 with 1 Axes>"
      ]
     },
     "metadata": {
      "needs_background": "light"
     },
     "output_type": "display_data"
    }
   ],
   "source": [
    "df['Close: 30 Day Mean'] = df['Close'].rolling(window=30).mean()\n",
    "df[['Close','Close: 30 Day Mean']].plot(figsize=(16,6))"
   ]
  },
  {
   "cell_type": "code",
   "execution_count": 15,
   "metadata": {},
   "outputs": [
    {
     "data": {
      "text/plain": [
       "<AxesSubplot:xlabel='Date'>"
      ]
     },
     "execution_count": 15,
     "metadata": {},
     "output_type": "execute_result"
    },
    {
     "data": {
      "image/png": "[encoded data removed]",
      "text/plain": [
       "<Figure size 1152x432 with 1 Axes>"
      ]
     },
     "metadata": {
      "needs_background": "light"
     },
     "output_type": "display_data"
    }
   ],
   "source": [
    "df['Close'].expanding(min_periods=1).mean().plot(figsize=(16,6))"
   ]
  },
  {
   "cell_type": "code",
   "execution_count": 16,
   "metadata": {},
   "outputs": [
    {
     "data": {
      "text/plain": [
       "(3468, 1)"
      ]
     },
     "execution_count": 16,
     "metadata": {},
     "output_type": "execute_result"
    }
   ],
   "source": [
    "training_set=df['Open']\n",
    "training_set=pd.DataFrame(training_set)\n",
    "training_set.shape"
   ]
  },
  {
   "cell_type": "code",
   "execution_count": 17,
   "metadata": {},
   "outputs": [
    {
     "data": {
      "text/plain": [
       "(3468, 1)"
      ]
     },
     "execution_count": 17,
     "metadata": {},
     "output_type": "execute_result"
    }
   ],
   "source": [
    "# Part 2 Data preprocessing\n",
    "from sklearn.preprocessing import MinMaxScaler\n",
    "sc = MinMaxScaler(feature_range=(0,1))\n",
    "training_set_scaled = sc.fit_transform(training_set)\n",
    "training_set_scaled.shape"
   ]
  },
  {
   "cell_type": "code",
   "execution_count": 18,
   "metadata": {},
   "outputs": [],
   "source": [
    "X_train = []\n",
    "y_train = []\n",
    "for i in range(60, 1258):\n",
    "    X_train.append(training_set_scaled[i-60:i, 0])\n",
    "    y_train.append(training_set_scaled[i, 0])\n",
    "\n",
    "X_train, y_train = np.array(X_train), np.array(y_train)\n",
    "\n",
    "# Reshaping\n",
    "X_train = np.reshape(X_train, (X_train.shape[0], X_train.shape[1], 1))\n",
    "\n",
    "# X_train.shape\n",
    "# y_train.shape"
   ]
  },
  {
   "cell_type": "code",
   "execution_count": 40,
   "metadata": {},
   "outputs": [],
   "source": [
    "#   Part 3 - Feature extraction\n",
    "# Building the Keras LIbraries and packages\n",
    "from keras.models import Sequential\n",
    "from keras.layers import Dense, LSTM, Dropout"
   ]
  },
  {
   "cell_type": "code",
   "execution_count": 41,
   "metadata": {},
   "outputs": [],
   "source": [
    "regressor = Sequential()"
   ]
  },
  {
   "cell_type": "code",
   "execution_count": 42,
   "metadata": {},
   "outputs": [],
   "source": [
    "# Training the neural network\n",
    "\n",
    "# Adding the first LTSM Layer and some Dropout regularisation\n",
    "regressor.add(LSTM(units=50, return_sequences=True, input_shape=(X_train.shape[1], 1)))\n",
    "regressor.add(Dropout(0.2))\n",
    "\n",
    "# Adding a second LSTM Layer and some Dropout regularisation\n",
    "regressor.add(LSTM(units = 50, return_sequences = True))\n",
    "regressor.add(Dropout(0.2))\n",
    "\n",
    "# Adding a third LSTM Layer and some Dropout regularisation\n",
    "regressor.add(LSTM(units=50, return_sequences=True))\n",
    "regressor.add(Dropout(0.2))\n",
    "\n",
    "# Adding a fourth LSTM Layer and some Dropout regularisation\n",
    "regressor.add(LSTM(units=50, return_sequences=True))\n",
    "regressor.add(Dropout(0.2))\n",
    "\n",
    "# Adding the output layer\n",
    "regressor.add(Dense(units=1))"
   ]
  },
  {
   "cell_type": "code",
   "execution_count": null,
   "metadata": {},
   "outputs": [],
   "source": [
    "# Compiling the RNN using an optimizer\n",
    "regressor.compile(optimizer='adam', loss = 'mean_squared_error',metrics=[\"accuracy\"])\n",
    "\n",
    "# Fitting the RNN to the training set\n",
    "regressor.fit(X_train, y_train, epochs=100, batch_size=32)"
   ]
  },
  {
   "cell_type": "code",
   "execution_count": 44,
   "metadata": {},
   "outputs": [],
   "source": [
    "# Save the model\n",
    "regressor.save('keras_regressor_model.h5')"
   ]
  },
  {
   "cell_type": "code",
   "execution_count": 45,
   "metadata": {},
   "outputs": [],
   "source": [
    "from keras.models import load_model\n",
    "\n",
    "regressor=load_model('keras_regressor_model.h5')"
   ]
  },
  {
   "cell_type": "code",
   "execution_count": 46,
   "metadata": {},
   "outputs": [],
   "source": [
    "# Part 4 Making the prediction and visualizing the results\n",
    "\n",
    "# Getting the real stock price of 2017\n",
    "df_test = pd.read_csv('GOOGL.csv', index_col='Date', parse_dates=True)\n",
    "df_test=df_test.loc['2020-01-01':'2020-01-30', :]"
   ]
  },
  {
   "cell_type": "code",
   "execution_count": 47,
   "metadata": {},
   "outputs": [],
   "source": [
    "real_stock_price=df_test.iloc[:, 1:2].values\n",
    "# df_test.index.name = 'Date'\n",
    "# df_test.shape\n",
    "# iday = df_test.loc['2020-01-01':'2020-01-30', :]\n"
   ]
  },
  {
   "cell_type": "code",
   "execution_count": 48,
   "metadata": {},
   "outputs": [
    {
     "data": {
      "text/html": [
       "<div>\n",
       "<style scoped>\n",
       "    .dataframe tbody tr th:only-of-type {\n",
       "        vertical-align: middle;\n",
       "    }\n",
       "\n",
       "    .dataframe tbody tr th {\n",
       "        vertical-align: top;\n",
       "    }\n",
       "\n",
       "    .dataframe thead th {\n",
       "        text-align: right;\n",
       "    }\n",
       "</style>\n",
       "<table border=\"1\" class=\"dataframe\">\n",
       "  <thead>\n",
       "    <tr style=\"text-align: right;\">\n",
       "      <th></th>\n",
       "      <th>High</th>\n",
       "      <th>Low</th>\n",
       "      <th>Open</th>\n",
       "      <th>Close</th>\n",
       "      <th>Volume</th>\n",
       "      <th>Adj Close</th>\n",
       "    </tr>\n",
       "    <tr>\n",
       "      <th>Date</th>\n",
       "      <th></th>\n",
       "      <th></th>\n",
       "      <th></th>\n",
       "      <th></th>\n",
       "      <th></th>\n",
       "      <th></th>\n",
       "    </tr>\n",
       "  </thead>\n",
       "  <tbody>\n",
       "    <tr>\n",
       "      <th>2020-01-02</th>\n",
       "      <td>1368.680054</td>\n",
       "      <td>1346.489990</td>\n",
       "      <td>1348.410034</td>\n",
       "      <td>1368.680054</td>\n",
       "      <td>1363900.0</td>\n",
       "      <td>1368.680054</td>\n",
       "    </tr>\n",
       "    <tr>\n",
       "      <th>2020-01-03</th>\n",
       "      <td>1373.750000</td>\n",
       "      <td>1347.319946</td>\n",
       "      <td>1348.000000</td>\n",
       "      <td>1361.520020</td>\n",
       "      <td>1170400.0</td>\n",
       "      <td>1361.520020</td>\n",
       "    </tr>\n",
       "    <tr>\n",
       "      <th>2020-01-06</th>\n",
       "      <td>1398.319946</td>\n",
       "      <td>1351.000000</td>\n",
       "      <td>1351.630005</td>\n",
       "      <td>1397.810059</td>\n",
       "      <td>2338400.0</td>\n",
       "      <td>1397.810059</td>\n",
       "    </tr>\n",
       "    <tr>\n",
       "      <th>2020-01-07</th>\n",
       "      <td>1403.500000</td>\n",
       "      <td>1391.560059</td>\n",
       "      <td>1400.459961</td>\n",
       "      <td>1395.109985</td>\n",
       "      <td>1716500.0</td>\n",
       "      <td>1395.109985</td>\n",
       "    </tr>\n",
       "    <tr>\n",
       "      <th>2020-01-08</th>\n",
       "      <td>1411.849976</td>\n",
       "      <td>1392.630005</td>\n",
       "      <td>1394.819946</td>\n",
       "      <td>1405.040039</td>\n",
       "      <td>1765700.0</td>\n",
       "      <td>1405.040039</td>\n",
       "    </tr>\n",
       "  </tbody>\n",
       "</table>\n",
       "</div>"
      ],
      "text/plain": [
       "                   High          Low         Open        Close     Volume  \\\n",
       "Date                                                                        \n",
       "2020-01-02  1368.680054  1346.489990  1348.410034  1368.680054  1363900.0   \n",
       "2020-01-03  1373.750000  1347.319946  1348.000000  1361.520020  1170400.0   \n",
       "2020-01-06  1398.319946  1351.000000  1351.630005  1397.810059  2338400.0   \n",
       "2020-01-07  1403.500000  1391.560059  1400.459961  1395.109985  1716500.0   \n",
       "2020-01-08  1411.849976  1392.630005  1394.819946  1405.040039  1765700.0   \n",
       "\n",
       "              Adj Close  \n",
       "Date                     \n",
       "2020-01-02  1368.680054  \n",
       "2020-01-03  1361.520020  \n",
       "2020-01-06  1397.810059  \n",
       "2020-01-07  1395.109985  \n",
       "2020-01-08  1405.040039  "
      ]
     },
     "execution_count": 48,
     "metadata": {},
     "output_type": "execute_result"
    }
   ],
   "source": [
    "df_test.head()"
   ]
  },
  {
   "cell_type": "code",
   "execution_count": 49,
   "metadata": {},
   "outputs": [
    {
     "name": "stdout",
     "output_type": "stream",
     "text": [
      "<class 'pandas.core.frame.DataFrame'>\n",
      "DatetimeIndex: 20 entries, 2020-01-02 to 2020-01-30\n",
      "Data columns (total 6 columns):\n",
      " #   Column     Non-Null Count  Dtype  \n",
      "---  ------     --------------  -----  \n",
      " 0   High       20 non-null     float64\n",
      " 1   Low        20 non-null     float64\n",
      " 2   Open       20 non-null     float64\n",
      " 3   Close      20 non-null     float64\n",
      " 4   Volume     20 non-null     float64\n",
      " 5   Adj Close  20 non-null     float64\n",
      "dtypes: float64(6)\n",
      "memory usage: 1.1 KB\n"
     ]
    }
   ],
   "source": [
    "df_test.info()"
   ]
  },
  {
   "cell_type": "code",
   "execution_count": 50,
   "metadata": {},
   "outputs": [],
   "source": [
    "# df_test['Volume'] = df_test['Volume'].str.replace(',','').astype(float)\n",
    "df_test['Volume'] = df_test['Volume'].replace(',','').astype(float)"
   ]
  },
  {
   "cell_type": "code",
   "execution_count": 51,
   "metadata": {},
   "outputs": [],
   "source": [
    "test_set = df_test['Open']\n",
    "test_set = pd.DataFrame(test_set)"
   ]
  },
  {
   "cell_type": "code",
   "execution_count": 52,
   "metadata": {},
   "outputs": [
    {
     "name": "stdout",
     "output_type": "stream",
     "text": [
      "<class 'pandas.core.frame.DataFrame'>\n",
      "DatetimeIndex: 20 entries, 2020-01-02 to 2020-01-30\n",
      "Data columns (total 1 columns):\n",
      " #   Column  Non-Null Count  Dtype  \n",
      "---  ------  --------------  -----  \n",
      " 0   Open    20 non-null     float64\n",
      "dtypes: float64(1)\n",
      "memory usage: 320.0 bytes\n"
     ]
    }
   ],
   "source": [
    "test_set.info()"
   ]
  },
  {
   "cell_type": "code",
   "execution_count": 53,
   "metadata": {},
   "outputs": [
    {
     "name": "stdout",
     "output_type": "stream",
     "text": [
      "(20, 60, 1)\n",
      "(20,)\n"
     ]
    }
   ],
   "source": [
    "dataset_total = pd.concat((df['Open'], df_test['Open']), axis=0)\n",
    "inputs = dataset_total[len(dataset_total)-len(df_test)-60:].values\n",
    "inputs=inputs.reshape(-1,1)\n",
    "inputs=sc.transform(inputs)\n",
    "X_test = []\n",
    "\n",
    "for i in range(60,80):\n",
    "    X_test.append(inputs[i-60:i, 0])\n",
    "\n",
    "X_test = np.array(X_test)\n",
    "X_test = np.reshape(X_test, (X_test.shape[0], X_test.shape[1], 1))\n",
    "predicted_stock_price = regressor.predict(X_test)\n",
    "print(predicted_stock_price.shape)\n",
    "\n",
    "n = 0\n",
    "predicted_stock_price = predicted_stock_price[:, n, n]\n",
    "print(predicted_stock_price.shape)\n",
    "\n",
    "# predicted_stock_price = sc.inverse_transform(predicted_stock_price)"
   ]
  },
  {
   "cell_type": "code",
   "execution_count": 55,
   "metadata": {},
   "outputs": [
    {
     "data": {
      "text/plain": [
       "array([nan, nan, nan, nan, nan, nan, nan, nan, nan, nan, nan, nan, nan,\n",
       "       nan, nan, nan, nan, nan, nan, nan], dtype=float32)"
      ]
     },
     "execution_count": 55,
     "metadata": {},
     "output_type": "execute_result"
    }
   ],
   "source": [
    "predicted_stock_price"
   ]
  },
  {
   "cell_type": "code",
   "execution_count": null,
   "metadata": {},
   "outputs": [],
   "source": [
    "predicted_stock_price=pd.DataFrame(predicted_stock_price)\n",
    "predicted_stock_price.info()"
   ]
  },
  {
   "cell_type": "code",
   "execution_count": null,
   "metadata": {},
   "outputs": [],
   "source": [
    "plt.plot(real_stock_price, color = 'red', label = 'Real Google Stock Price')\n",
    "plt.plot(predicted_stock_price, color = 'blue', label = 'Predicted Google Stock Price')\n",
    "plt.title('Google STock Price Prediction')\n",
    "plt.xlabel('Time')\n",
    "plt.ylabel('Google Stock Price')\n",
    "plt.legend()\n",
    "plt.show()\n"
   ]
  },
  {
   "cell_type": "code",
   "execution_count": 4,
   "metadata": {},
   "outputs": [
    {
     "ename": "NameError",
     "evalue": "name 'training_set' is not defined",
     "output_type": "error",
     "traceback": [
      "\u001b[0;31m---------------------------------------------------------------------------\u001b[0m",
      "\u001b[0;31mNameError\u001b[0m                                 Traceback (most recent call last)",
      "\u001b[0;32m<ipython-input-4-e3624047cd17>\u001b[0m in \u001b[0;36m<module>\u001b[0;34m\u001b[0m\n\u001b[1;32m      3\u001b[0m \u001b[0;32mfrom\u001b[0m \u001b[0msklearn\u001b[0m\u001b[0;34m.\u001b[0m\u001b[0mpreprocessing\u001b[0m \u001b[0;32mimport\u001b[0m \u001b[0mMinMaxScaler\u001b[0m\u001b[0;34m\u001b[0m\u001b[0;34m\u001b[0m\u001b[0m\n\u001b[1;32m      4\u001b[0m \u001b[0msc\u001b[0m \u001b[0;34m=\u001b[0m \u001b[0mMinMaxScaler\u001b[0m\u001b[0;34m(\u001b[0m\u001b[0mfeature_range\u001b[0m\u001b[0;34m=\u001b[0m\u001b[0;34m(\u001b[0m\u001b[0;36m0\u001b[0m\u001b[0;34m,\u001b[0m\u001b[0;36m1\u001b[0m\u001b[0;34m)\u001b[0m\u001b[0;34m)\u001b[0m\u001b[0;34m\u001b[0m\u001b[0;34m\u001b[0m\u001b[0m\n\u001b[0;32m----> 5\u001b[0;31m \u001b[0mtraining_set_scaled\u001b[0m \u001b[0;34m=\u001b[0m \u001b[0msc\u001b[0m\u001b[0;34m.\u001b[0m\u001b[0mfit_transform\u001b[0m\u001b[0;34m(\u001b[0m\u001b[0mtraining_set\u001b[0m\u001b[0;34m)\u001b[0m\u001b[0;34m\u001b[0m\u001b[0;34m\u001b[0m\u001b[0m\n\u001b[0m\u001b[1;32m      6\u001b[0m \u001b[0;34m\u001b[0m\u001b[0m\n\u001b[1;32m      7\u001b[0m \u001b[0;34m\u001b[0m\u001b[0m\n",
      "\u001b[0;31mNameError\u001b[0m: name 'training_set' is not defined"
     ]
    }
   ],
   "source": [
    "from keras.models import load_model\n",
    "from sklearn.preprocessing import MinMaxScaler\n",
    "from sklearn.preprocessing import MinMaxScaler\n",
    "sc = MinMaxScaler(feature_range=(0,1))\n",
    "training_set_scaled = sc.fit_transform(training_set)\n",
    "\n",
    "\n",
    "df_test = pd.read_csv('GOOGL.csv', index_col='Date', parse_dates=True)\n",
    "df_test=df_test.loc['2020-01-01':'2020-01-30', :]\n",
    "\n",
    "real_stock_price=df_test.iloc[:, 1:2].values\n",
    "# df_test.index.name = 'Date'\n",
    "# df_test.shape\n",
    "# iday = df_test.loc['2020-01-01':'2020-01-30', :]\n",
    "\n",
    "# df_test['Volume'] = df_test['Volume'].str.replace(',','').astype(float)\n",
    "df_test['Volume'] = df_test['Volume'].replace(',','').astype(float)\n",
    "\n",
    "test_set = df_test['Open']\n",
    "test_set = pd.DataFrame(test_set)\n",
    "\n",
    "dataset_total = pd.concat((df['Open'], df_test['Open']), axis=0)\n",
    "inputs = dataset_total[len(dataset_total)-len(df_test)-60:].values\n",
    "inputs=inputs.reshape(-1,1)\n",
    "inputs=sc.transform(inputs)\n",
    "X_test = []\n",
    "\n",
    "for i in range(60,80):\n",
    "    X_test.append(inputs[i-60:i, 0])\n",
    "\n",
    "X_test = np.array(X_test)\n",
    "X_test = np.reshape(X_test, (X_test.shape[0], X_test.shape[1], 1))\n",
    "predicted_stock_price = regressor.predict(X_test)\n",
    "# predicted_stock_price = sc.inverse_transform(predicted_stock_price)\n",
    "\n",
    "predicted_stock_price=pd.DataFrame(predicted_stock_price)\n",
    "predicted_stock_price.info()\n",
    "\n",
    "plt.plot(real_stock_price, color = 'red', label = 'Real Google Stock Price')\n",
    "plt.plot(predicted_stock_price, color = 'blue', label = 'Predicted Google Stock Price')\n",
    "plt.title('Google STock Price Prediction')\n",
    "plt.xlabel('Time')\n",
    "plt.ylabel('Google Stock Price')\n",
    "plt.legend()\n",
    "plt.show()"
   ]
  }
 ],
 "metadata": {
  "interpreter": {
   "hash": "d6d06472a110b9b5e87d023ee66c62bd153be1407b356e16317c1e69d468e681"
  },
  "kernelspec": {
   "display_name": "Python 3.8.8 64-bit ('base': conda)",
   "name": "python3"
  },
  "language_info": {
   "codemirror_mode": {
    "name": "ipython",
    "version": 3
   },
   "file_extension": ".py",
   "mimetype": "text/x-python",
   "name": "python",
   "nbconvert_exporter": "python",
   "pygments_lexer": "ipython3",
   "version": "3.8.8"
  }
 },
 "nbformat": 4,
 "nbformat_minor": 5
}
