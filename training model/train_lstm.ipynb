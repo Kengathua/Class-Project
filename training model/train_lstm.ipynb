{
 "cells": [
  {
   "cell_type": "code",
   "execution_count": 8,
   "id": "4cc8893e-710d-4bc6-8060-321928549f19",
   "metadata": {},
   "outputs": [],
   "source": [
    "import pandas as pd\n",
    "import numpy as np\n",
    "import matplotlib.pyplot as plt\n",
    "import pandas_datareader as data"
   ]
  },
  {
   "cell_type": "code",
   "execution_count": 10,
   "id": "2952a46d-e269-4628-865e-7d99d2bfba31",
   "metadata": {},
   "outputs": [
    {
     "data": {
      "text/html": [
       "<div>\n",
       "<style scoped>\n",
       "    .dataframe tbody tr th:only-of-type {\n",
       "        vertical-align: middle;\n",
       "    }\n",
       "\n",
       "    .dataframe tbody tr th {\n",
       "        vertical-align: top;\n",
       "    }\n",
       "\n",
       "    .dataframe thead th {\n",
       "        text-align: right;\n",
       "    }\n",
       "</style>\n",
       "<table border=\"1\" class=\"dataframe\">\n",
       "  <thead>\n",
       "    <tr style=\"text-align: right;\">\n",
       "      <th></th>\n",
       "      <th>High</th>\n",
       "      <th>Low</th>\n",
       "      <th>Open</th>\n",
       "      <th>Close</th>\n",
       "      <th>Volume</th>\n",
       "      <th>Adj Close</th>\n",
       "    </tr>\n",
       "    <tr>\n",
       "      <th>Date</th>\n",
       "      <th></th>\n",
       "      <th></th>\n",
       "      <th></th>\n",
       "      <th></th>\n",
       "      <th></th>\n",
       "      <th></th>\n",
       "    </tr>\n",
       "  </thead>\n",
       "  <tbody>\n",
       "    <tr>\n",
       "      <th>2007-09-17</th>\n",
       "      <td>4549.049805</td>\n",
       "      <td>4482.850098</td>\n",
       "      <td>4518.450195</td>\n",
       "      <td>4494.649902</td>\n",
       "      <td>0.0</td>\n",
       "      <td>4494.649902</td>\n",
       "    </tr>\n",
       "    <tr>\n",
       "      <th>2007-09-18</th>\n",
       "      <td>4551.799805</td>\n",
       "      <td>4481.549805</td>\n",
       "      <td>4494.100098</td>\n",
       "      <td>4546.200195</td>\n",
       "      <td>0.0</td>\n",
       "      <td>4546.200195</td>\n",
       "    </tr>\n",
       "    <tr>\n",
       "      <th>2007-09-19</th>\n",
       "      <td>4739.000000</td>\n",
       "      <td>4550.250000</td>\n",
       "      <td>4550.250000</td>\n",
       "      <td>4732.350098</td>\n",
       "      <td>0.0</td>\n",
       "      <td>4732.350098</td>\n",
       "    </tr>\n",
       "    <tr>\n",
       "      <th>2007-09-20</th>\n",
       "      <td>4760.850098</td>\n",
       "      <td>4721.149902</td>\n",
       "      <td>4734.850098</td>\n",
       "      <td>4747.549805</td>\n",
       "      <td>0.0</td>\n",
       "      <td>4747.549805</td>\n",
       "    </tr>\n",
       "    <tr>\n",
       "      <th>2007-09-21</th>\n",
       "      <td>4855.700195</td>\n",
       "      <td>4733.700195</td>\n",
       "      <td>4752.950195</td>\n",
       "      <td>4837.549805</td>\n",
       "      <td>0.0</td>\n",
       "      <td>4837.549805</td>\n",
       "    </tr>\n",
       "  </tbody>\n",
       "</table>\n",
       "</div>"
      ],
      "text/plain": [
       "                   High          Low         Open        Close  Volume  \\\n",
       "Date                                                                     \n",
       "2007-09-17  4549.049805  4482.850098  4518.450195  4494.649902     0.0   \n",
       "2007-09-18  4551.799805  4481.549805  4494.100098  4546.200195     0.0   \n",
       "2007-09-19  4739.000000  4550.250000  4550.250000  4732.350098     0.0   \n",
       "2007-09-20  4760.850098  4721.149902  4734.850098  4747.549805     0.0   \n",
       "2007-09-21  4855.700195  4733.700195  4752.950195  4837.549805     0.0   \n",
       "\n",
       "              Adj Close  \n",
       "Date                     \n",
       "2007-09-17  4494.649902  \n",
       "2007-09-18  4546.200195  \n",
       "2007-09-19  4732.350098  \n",
       "2007-09-20  4747.549805  \n",
       "2007-09-21  4837.549805  "
      ]
     },
     "execution_count": 10,
     "metadata": {},
     "output_type": "execute_result"
    }
   ],
   "source": [
    "start = '2000-01-01'\n",
    "end = '2019-12-31'\n",
    "\n",
    "df = data.DataReader('^NSEI', 'yahoo', start, end)\n",
    "df.head()\n",
    "# df.tail()"
   ]
  },
  {
   "cell_type": "code",
   "execution_count": 3,
   "metadata": {},
   "outputs": [
    {
     "data": {
      "text/html": [
       "<div>\n",
       "<style scoped>\n",
       "    .dataframe tbody tr th:only-of-type {\n",
       "        vertical-align: middle;\n",
       "    }\n",
       "\n",
       "    .dataframe tbody tr th {\n",
       "        vertical-align: top;\n",
       "    }\n",
       "\n",
       "    .dataframe thead th {\n",
       "        text-align: right;\n",
       "    }\n",
       "</style>\n",
       "<table border=\"1\" class=\"dataframe\">\n",
       "  <thead>\n",
       "    <tr style=\"text-align: right;\">\n",
       "      <th></th>\n",
       "      <th>Date</th>\n",
       "      <th>High</th>\n",
       "      <th>Low</th>\n",
       "      <th>Open</th>\n",
       "      <th>Close</th>\n",
       "      <th>Volume</th>\n",
       "      <th>Adj Close</th>\n",
       "    </tr>\n",
       "  </thead>\n",
       "  <tbody>\n",
       "    <tr>\n",
       "      <th>0</th>\n",
       "      <td>2004-08-19</td>\n",
       "      <td>51.835709</td>\n",
       "      <td>47.800831</td>\n",
       "      <td>49.813290</td>\n",
       "      <td>49.982655</td>\n",
       "      <td>44871361.0</td>\n",
       "      <td>49.982655</td>\n",
       "    </tr>\n",
       "    <tr>\n",
       "      <th>1</th>\n",
       "      <td>2004-08-20</td>\n",
       "      <td>54.336334</td>\n",
       "      <td>50.062355</td>\n",
       "      <td>50.316402</td>\n",
       "      <td>53.952770</td>\n",
       "      <td>22942874.0</td>\n",
       "      <td>53.952770</td>\n",
       "    </tr>\n",
       "    <tr>\n",
       "      <th>2</th>\n",
       "      <td>2004-08-23</td>\n",
       "      <td>56.528118</td>\n",
       "      <td>54.321388</td>\n",
       "      <td>55.168217</td>\n",
       "      <td>54.495735</td>\n",
       "      <td>18342897.0</td>\n",
       "      <td>54.495735</td>\n",
       "    </tr>\n",
       "    <tr>\n",
       "      <th>3</th>\n",
       "      <td>2004-08-24</td>\n",
       "      <td>55.591629</td>\n",
       "      <td>51.591621</td>\n",
       "      <td>55.412300</td>\n",
       "      <td>52.239197</td>\n",
       "      <td>15319808.0</td>\n",
       "      <td>52.239197</td>\n",
       "    </tr>\n",
       "    <tr>\n",
       "      <th>4</th>\n",
       "      <td>2004-08-25</td>\n",
       "      <td>53.798351</td>\n",
       "      <td>51.746044</td>\n",
       "      <td>52.284027</td>\n",
       "      <td>52.802086</td>\n",
       "      <td>9232276.0</td>\n",
       "      <td>52.802086</td>\n",
       "    </tr>\n",
       "  </tbody>\n",
       "</table>\n",
       "</div>"
      ],
      "text/plain": [
       "        Date       High        Low       Open      Close      Volume  \\\n",
       "0 2004-08-19  51.835709  47.800831  49.813290  49.982655  44871361.0   \n",
       "1 2004-08-20  54.336334  50.062355  50.316402  53.952770  22942874.0   \n",
       "2 2004-08-23  56.528118  54.321388  55.168217  54.495735  18342897.0   \n",
       "3 2004-08-24  55.591629  51.591621  55.412300  52.239197  15319808.0   \n",
       "4 2004-08-25  53.798351  51.746044  52.284027  52.802086   9232276.0   \n",
       "\n",
       "   Adj Close  \n",
       "0  49.982655  \n",
       "1  53.952770  \n",
       "2  54.495735  \n",
       "3  52.239197  \n",
       "4  52.802086  "
      ]
     },
     "execution_count": 3,
     "metadata": {},
     "output_type": "execute_result"
    }
   ],
   "source": [
    "df = df.reset_index()\n",
    "df.head()"
   ]
  },
  {
   "cell_type": "code",
   "execution_count": 78,
   "metadata": {},
   "outputs": [
    {
     "data": {
      "text/html": [
       "<div>\n",
       "<style scoped>\n",
       "    .dataframe tbody tr th:only-of-type {\n",
       "        vertical-align: middle;\n",
       "    }\n",
       "\n",
       "    .dataframe tbody tr th {\n",
       "        vertical-align: top;\n",
       "    }\n",
       "\n",
       "    .dataframe thead th {\n",
       "        text-align: right;\n",
       "    }\n",
       "</style>\n",
       "<table border=\"1\" class=\"dataframe\">\n",
       "  <thead>\n",
       "    <tr style=\"text-align: right;\">\n",
       "      <th></th>\n",
       "      <th>High</th>\n",
       "      <th>Low</th>\n",
       "      <th>Open</th>\n",
       "      <th>Close</th>\n",
       "      <th>Volume</th>\n",
       "    </tr>\n",
       "  </thead>\n",
       "  <tbody>\n",
       "    <tr>\n",
       "      <th>0</th>\n",
       "      <td>51.835709</td>\n",
       "      <td>47.800831</td>\n",
       "      <td>49.813290</td>\n",
       "      <td>49.982655</td>\n",
       "      <td>44871361.0</td>\n",
       "    </tr>\n",
       "    <tr>\n",
       "      <th>1</th>\n",
       "      <td>54.336334</td>\n",
       "      <td>50.062355</td>\n",
       "      <td>50.316402</td>\n",
       "      <td>53.952770</td>\n",
       "      <td>22942874.0</td>\n",
       "    </tr>\n",
       "    <tr>\n",
       "      <th>2</th>\n",
       "      <td>56.528118</td>\n",
       "      <td>54.321388</td>\n",
       "      <td>55.168217</td>\n",
       "      <td>54.495735</td>\n",
       "      <td>18342897.0</td>\n",
       "    </tr>\n",
       "    <tr>\n",
       "      <th>3</th>\n",
       "      <td>55.591629</td>\n",
       "      <td>51.591621</td>\n",
       "      <td>55.412300</td>\n",
       "      <td>52.239197</td>\n",
       "      <td>15319808.0</td>\n",
       "    </tr>\n",
       "    <tr>\n",
       "      <th>4</th>\n",
       "      <td>53.798351</td>\n",
       "      <td>51.746044</td>\n",
       "      <td>52.284027</td>\n",
       "      <td>52.802086</td>\n",
       "      <td>9232276.0</td>\n",
       "    </tr>\n",
       "  </tbody>\n",
       "</table>\n",
       "</div>"
      ],
      "text/plain": [
       "        High        Low       Open      Close      Volume\n",
       "0  51.835709  47.800831  49.813290  49.982655  44871361.0\n",
       "1  54.336334  50.062355  50.316402  53.952770  22942874.0\n",
       "2  56.528118  54.321388  55.168217  54.495735  18342897.0\n",
       "3  55.591629  51.591621  55.412300  52.239197  15319808.0\n",
       "4  53.798351  51.746044  52.284027  52.802086   9232276.0"
      ]
     },
     "execution_count": 78,
     "metadata": {},
     "output_type": "execute_result"
    }
   ],
   "source": [
    "df= df.drop(['Date', 'Adj Close'], axis=1)\n",
    "df.head()"
   ]
  },
  {
   "cell_type": "code",
   "execution_count": 5,
   "metadata": {},
   "outputs": [
    {
     "data": {
      "image/png": "[encoded data removed]",
      "text/plain": [
       "<Figure size 432x288 with 1 Axes>"
      ]
     },
     "metadata": {
      "needs_background": "light"
     },
     "output_type": "display_data"
    }
   ],
   "source": [
    "ma100 = df.Close.rolling(100).mean().plot()\n",
    "ma100 = df.Close.rolling(100).mean()\n",
    "# ma100\n"
   ]
  },
  {
   "cell_type": "code",
   "execution_count": 6,
   "metadata": {},
   "outputs": [
    {
     "data": {
      "text/plain": [
       "[<matplotlib.lines.Line2D at 0x7fee528181f0>]"
      ]
     },
     "execution_count": 6,
     "metadata": {},
     "output_type": "execute_result"
    },
    {
     "data": {
      "image/png": "[encoded data removed]",
      "text/plain": [
       "<Figure size 864x432 with 1 Axes>"
      ]
     },
     "metadata": {
      "needs_background": "light"
     },
     "output_type": "display_data"
    }
   ],
   "source": [
    "plt.figure(figsize=(12,6))\n",
    "plt.plot(df.Close)\n",
    "plt.plot(ma100,'r')"
   ]
  },
  {
   "cell_type": "code",
   "execution_count": 7,
   "metadata": {},
   "outputs": [
    {
     "data": {
      "text/plain": [
       "[<matplotlib.lines.Line2D at 0x7fee5285b910>]"
      ]
     },
     "execution_count": 7,
     "metadata": {},
     "output_type": "execute_result"
    },
    {
     "data": {
      "image/png": "[encoded data removed]",
      "text/plain": [
       "<Figure size 864x432 with 1 Axes>"
      ]
     },
     "metadata": {
      "needs_background": "light"
     },
     "output_type": "display_data"
    }
   ],
   "source": [
    "ma200 = df.Close.rolling(200).mean()\n",
    "plt.figure(figsize=(12, 6))\n",
    "plt.plot(df.Close)\n",
    "plt.plot(ma100, 'r')\n",
    "plt.plot(ma200, 'g')\n"
   ]
  },
  {
   "cell_type": "code",
   "execution_count": 82,
   "metadata": {},
   "outputs": [
    {
     "data": {
      "text/plain": [
       "(3869, 5)"
      ]
     },
     "execution_count": 82,
     "metadata": {},
     "output_type": "execute_result"
    }
   ],
   "source": [
    "df.shape"
   ]
  },
  {
   "cell_type": "code",
   "execution_count": 8,
   "metadata": {},
   "outputs": [
    {
     "name": "stdout",
     "output_type": "stream",
     "text": [
      "(2708, 1)\n",
      "(1161, 1)\n"
     ]
    }
   ],
   "source": [
    "# Spliting the data into training and testing data\n",
    "data_training = pd.DataFrame(df['Close'][0:int(len(df)*0.70)])\n",
    "data_testing = pd.DataFrame(df['Close'][int(len(df)*0.70):int(len(df))])\n",
    "\n",
    "print(data_training.shape)\n",
    "print(data_testing.shape)"
   ]
  },
  {
   "cell_type": "code",
   "execution_count": 117,
   "metadata": {},
   "outputs": [
    {
     "data": {
      "text/html": [
       "<div>\n",
       "<style scoped>\n",
       "    .dataframe tbody tr th:only-of-type {\n",
       "        vertical-align: middle;\n",
       "    }\n",
       "\n",
       "    .dataframe tbody tr th {\n",
       "        vertical-align: top;\n",
       "    }\n",
       "\n",
       "    .dataframe thead th {\n",
       "        text-align: right;\n",
       "    }\n",
       "</style>\n",
       "<table border=\"1\" class=\"dataframe\">\n",
       "  <thead>\n",
       "    <tr style=\"text-align: right;\">\n",
       "      <th></th>\n",
       "      <th>Close</th>\n",
       "    </tr>\n",
       "  </thead>\n",
       "  <tbody>\n",
       "    <tr>\n",
       "      <th>0</th>\n",
       "      <td>49.982655</td>\n",
       "    </tr>\n",
       "    <tr>\n",
       "      <th>1</th>\n",
       "      <td>53.952770</td>\n",
       "    </tr>\n",
       "    <tr>\n",
       "      <th>2</th>\n",
       "      <td>54.495735</td>\n",
       "    </tr>\n",
       "    <tr>\n",
       "      <th>3</th>\n",
       "      <td>52.239197</td>\n",
       "    </tr>\n",
       "    <tr>\n",
       "      <th>4</th>\n",
       "      <td>52.802086</td>\n",
       "    </tr>\n",
       "  </tbody>\n",
       "</table>\n",
       "</div>"
      ],
      "text/plain": [
       "       Close\n",
       "0  49.982655\n",
       "1  53.952770\n",
       "2  54.495735\n",
       "3  52.239197\n",
       "4  52.802086"
      ]
     },
     "execution_count": 117,
     "metadata": {},
     "output_type": "execute_result"
    }
   ],
   "source": [
    "data_training.head()"
   ]
  },
  {
   "cell_type": "code",
   "execution_count": 94,
   "metadata": {},
   "outputs": [
    {
     "data": {
      "text/html": [
       "<div>\n",
       "<style scoped>\n",
       "    .dataframe tbody tr th:only-of-type {\n",
       "        vertical-align: middle;\n",
       "    }\n",
       "\n",
       "    .dataframe tbody tr th {\n",
       "        vertical-align: top;\n",
       "    }\n",
       "\n",
       "    .dataframe thead th {\n",
       "        text-align: right;\n",
       "    }\n",
       "</style>\n",
       "<table border=\"1\" class=\"dataframe\">\n",
       "  <thead>\n",
       "    <tr style=\"text-align: right;\">\n",
       "      <th></th>\n",
       "      <th>Close</th>\n",
       "    </tr>\n",
       "  </thead>\n",
       "  <tbody>\n",
       "    <tr>\n",
       "      <th>2708</th>\n",
       "      <td>540.109985</td>\n",
       "    </tr>\n",
       "    <tr>\n",
       "      <th>2709</th>\n",
       "      <td>532.320007</td>\n",
       "    </tr>\n",
       "    <tr>\n",
       "      <th>2710</th>\n",
       "      <td>539.789978</td>\n",
       "    </tr>\n",
       "    <tr>\n",
       "      <th>2711</th>\n",
       "      <td>539.780029</td>\n",
       "    </tr>\n",
       "    <tr>\n",
       "      <th>2712</th>\n",
       "      <td>532.109985</td>\n",
       "    </tr>\n",
       "  </tbody>\n",
       "</table>\n",
       "</div>"
      ],
      "text/plain": [
       "           Close\n",
       "2708  540.109985\n",
       "2709  532.320007\n",
       "2710  539.789978\n",
       "2711  539.780029\n",
       "2712  532.109985"
      ]
     },
     "execution_count": 94,
     "metadata": {},
     "output_type": "execute_result"
    }
   ],
   "source": [
    "data_testing.head()"
   ]
  },
  {
   "cell_type": "code",
   "execution_count": 23,
   "metadata": {},
   "outputs": [],
   "source": [
    "from sklearn.preprocessing import MinMaxScaler\n",
    "scaler=MinMaxScaler(feature_range=(0,1))"
   ]
  },
  {
   "cell_type": "code",
   "execution_count": 24,
   "metadata": {},
   "outputs": [
    {
     "data": {
      "text/plain": [
       "(2708, 1)"
      ]
     },
     "execution_count": 24,
     "metadata": {},
     "output_type": "execute_result"
    }
   ],
   "source": [
    "data_training_array = scaler.fit_transform(data_training)\n",
    "data_training_array.shape"
   ]
  },
  {
   "cell_type": "code",
   "execution_count": 25,
   "metadata": {},
   "outputs": [],
   "source": [
    "X_train = []\n",
    "y_train = []"
   ]
  },
  {
   "cell_type": "code",
   "execution_count": 26,
   "metadata": {},
   "outputs": [
    {
     "data": {
      "text/plain": [
       "100"
      ]
     },
     "execution_count": 26,
     "metadata": {},
     "output_type": "execute_result"
    }
   ],
   "source": [
    "for i in range (100, data_training_array.shape[0]):\n",
    "    X_train.append(data_training_array[i-100:i])\n",
    "    y_train.append(data_training_array[i, 0])\n",
    "\n",
    "X_train, y_train = np.array(X_train), np.array(y_train)"
   ]
  },
  {
   "cell_type": "code",
   "execution_count": 13,
   "metadata": {},
   "outputs": [],
   "source": [
    "# Ml model\n",
    "from keras.layers import Dense, Dropout, LSTM\n",
    "from keras.models import Sequential"
   ]
  },
  {
   "cell_type": "code",
   "execution_count": 1,
   "metadata": {},
   "outputs": [
    {
     "ename": "NameError",
     "evalue": "name 'Sequential' is not defined",
     "output_type": "error",
     "traceback": [
      "\u001b[0;31m---------------------------------------------------------------------------\u001b[0m",
      "\u001b[0;31mNameError\u001b[0m                                 Traceback (most recent call last)",
      "\u001b[0;32m<ipython-input-1-0befed69ea45>\u001b[0m in \u001b[0;36m<module>\u001b[0;34m\u001b[0m\n\u001b[0;32m----> 1\u001b[0;31m \u001b[0mmodel\u001b[0m\u001b[0;34m=\u001b[0m\u001b[0mSequential\u001b[0m\u001b[0;34m(\u001b[0m\u001b[0;34m)\u001b[0m\u001b[0;34m\u001b[0m\u001b[0;34m\u001b[0m\u001b[0m\n\u001b[0m\u001b[1;32m      2\u001b[0m \u001b[0mmodel\u001b[0m\u001b[0;34m.\u001b[0m\u001b[0madd\u001b[0m\u001b[0;34m(\u001b[0m\u001b[0mLSTM\u001b[0m\u001b[0;34m(\u001b[0m\u001b[0munits\u001b[0m\u001b[0;34m=\u001b[0m\u001b[0;36m10\u001b[0m\u001b[0;34m,\u001b[0m \u001b[0mactivation\u001b[0m\u001b[0;34m=\u001b[0m\u001b[0;34m'relu'\u001b[0m\u001b[0;34m,\u001b[0m \u001b[0mreturn_sequences\u001b[0m\u001b[0;34m=\u001b[0m\u001b[0;32mTrue\u001b[0m\u001b[0;34m,\u001b[0m\u001b[0minput_shape\u001b[0m\u001b[0;34m=\u001b[0m\u001b[0;34m(\u001b[0m\u001b[0mX_train\u001b[0m\u001b[0;34m.\u001b[0m\u001b[0mshape\u001b[0m\u001b[0;34m[\u001b[0m\u001b[0;36m1\u001b[0m\u001b[0;34m]\u001b[0m\u001b[0;34m,\u001b[0m\u001b[0;36m1\u001b[0m\u001b[0;34m)\u001b[0m\u001b[0;34m)\u001b[0m\u001b[0;34m)\u001b[0m\u001b[0;34m\u001b[0m\u001b[0;34m\u001b[0m\u001b[0m\n\u001b[1;32m      3\u001b[0m \u001b[0mmodel\u001b[0m\u001b[0;34m.\u001b[0m\u001b[0madd\u001b[0m\u001b[0;34m(\u001b[0m\u001b[0mDropout\u001b[0m\u001b[0;34m(\u001b[0m\u001b[0;36m0.2\u001b[0m\u001b[0;34m)\u001b[0m\u001b[0;34m)\u001b[0m\u001b[0;34m\u001b[0m\u001b[0;34m\u001b[0m\u001b[0m\n\u001b[1;32m      4\u001b[0m \u001b[0;34m\u001b[0m\u001b[0m\n\u001b[1;32m      5\u001b[0m \u001b[0mmodel\u001b[0m\u001b[0;34m.\u001b[0m\u001b[0madd\u001b[0m\u001b[0;34m(\u001b[0m\u001b[0mLSTM\u001b[0m\u001b[0;34m(\u001b[0m\u001b[0munits\u001b[0m\u001b[0;34m=\u001b[0m\u001b[0;36m20\u001b[0m\u001b[0;34m,\u001b[0m \u001b[0mactivation\u001b[0m\u001b[0;34m=\u001b[0m\u001b[0;34m'relu'\u001b[0m\u001b[0;34m,\u001b[0m \u001b[0mreturn_sequences\u001b[0m\u001b[0;34m=\u001b[0m\u001b[0;32mTrue\u001b[0m\u001b[0;34m)\u001b[0m\u001b[0;34m)\u001b[0m\u001b[0;34m\u001b[0m\u001b[0;34m\u001b[0m\u001b[0m\n",
      "\u001b[0;31mNameError\u001b[0m: name 'Sequential' is not defined"
     ]
    }
   ],
   "source": [
    "model=Sequential()\n",
    "model.add(LSTM(units=10, activation='relu', return_sequences=True,input_shape=(X_train.shape[1],1)))\n",
    "model.add(Dropout(0.2))\n",
    "\n",
    "model.add(LSTM(units=20, activation='relu', return_sequences=True))\n",
    "model.add(Dropout(0.25))\n",
    "\n",
    "model.add(LSTM(units=30, activation='relu', return_sequences=True))\n",
    "model.add(Dropout(0.3))\n",
    "\n",
    "model.add(LSTM(units=40, activation='relu', return_sequences=True))\n",
    "model.add(Dropout(0.35))\n",
    "\n",
    "model.add(Dense(units=1))\n"
   ]
  },
  {
   "cell_type": "code",
   "execution_count": 32,
   "metadata": {},
   "outputs": [
    {
     "name": "stdout",
     "output_type": "stream",
     "text": [
      "Model: \"sequential_3\"\n",
      "_________________________________________________________________\n",
      "Layer (type)                 Output Shape              Param #   \n",
      "=================================================================\n",
      "lstm_12 (LSTM)               (None, 100, 100)          40800     \n",
      "_________________________________________________________________\n",
      "dropout_12 (Dropout)         (None, 100, 100)          0         \n",
      "_________________________________________________________________\n",
      "lstm_13 (LSTM)               (None, 100, 110)          92840     \n",
      "_________________________________________________________________\n",
      "dropout_13 (Dropout)         (None, 100, 110)          0         \n",
      "_________________________________________________________________\n",
      "lstm_14 (LSTM)               (None, 100, 120)          110880    \n",
      "_________________________________________________________________\n",
      "dropout_14 (Dropout)         (None, 100, 120)          0         \n",
      "_________________________________________________________________\n",
      "lstm_15 (LSTM)               (None, 100, 130)          130520    \n",
      "_________________________________________________________________\n",
      "dropout_15 (Dropout)         (None, 100, 130)          0         \n",
      "_________________________________________________________________\n",
      "dense_3 (Dense)              (None, 100, 1)            131       \n",
      "=================================================================\n",
      "Total params: 375,171\n",
      "Trainable params: 375,171\n",
      "Non-trainable params: 0\n",
      "_________________________________________________________________\n"
     ]
    }
   ],
   "source": [
    "model.summary()"
   ]
  },
  {
   "cell_type": "code",
   "execution_count": 33,
   "metadata": {},
   "outputs": [
    {
     "name": "stdout",
     "output_type": "stream",
     "text": [
      "Epoch 1/50\n",
      "82/82 [==============================] - 112s 1s/step - loss: 0.0540 - accuracy: 3.1825e-04\n",
      "Epoch 2/50\n",
      "82/82 [==============================] - 94s 1s/step - loss: 0.0158 - accuracy: 3.5660e-04\n",
      "Epoch 3/50\n",
      "82/82 [==============================] - 96s 1s/step - loss: 0.0118 - accuracy: 3.6426e-04\n",
      "Epoch 4/50\n",
      "82/82 [==============================] - 93s 1s/step - loss: 0.0097 - accuracy: 3.7577e-04\n",
      "Epoch 5/50\n",
      "82/82 [==============================] - 94s 1s/step - loss: 0.0087 - accuracy: 3.7193e-04\n",
      "Epoch 6/50\n",
      "82/82 [==============================] - 93s 1s/step - loss: 0.0080 - accuracy: 3.7577e-04\n",
      "Epoch 7/50\n",
      "82/82 [==============================] - 93s 1s/step - loss: 0.0074 - accuracy: 3.7960e-04\n",
      "Epoch 8/50\n",
      "82/82 [==============================] - 87s 1s/step - loss: 0.0071 - accuracy: 3.7960e-04\n",
      "Epoch 9/50\n",
      "82/82 [==============================] - 82s 1s/step - loss: 0.0068 - accuracy: 3.7960e-04\n",
      "Epoch 10/50\n",
      "82/82 [==============================] - 81s 991ms/step - loss: 521.8543 - accuracy: 3.7960e-04\n",
      "Epoch 11/50\n",
      "82/82 [==============================] - 82s 997ms/step - loss: 0.0073 - accuracy: 3.7960e-04\n",
      "Epoch 12/50\n",
      "82/82 [==============================] - 81s 986ms/step - loss: 0.0066 - accuracy: 3.7960e-04\n",
      "Epoch 13/50\n",
      "82/82 [==============================] - 82s 995ms/step - loss: 0.0064 - accuracy: 3.7960e-04\n",
      "Epoch 14/50\n",
      "82/82 [==============================] - 83s 1s/step - loss: 0.0062 - accuracy: 3.7960e-04\n",
      "Epoch 15/50\n",
      "82/82 [==============================] - 81s 986ms/step - loss: 0.0062 - accuracy: 3.7577e-04\n",
      "Epoch 16/50\n",
      "82/82 [==============================] - 96s 1s/step - loss: 0.0059 - accuracy: 3.7960e-04\n",
      "Epoch 17/50\n",
      "82/82 [==============================] - 97s 1s/step - loss: 0.0059 - accuracy: 3.8344e-04\n",
      "Epoch 18/50\n",
      "82/82 [==============================] - 77s 941ms/step - loss: 0.0059 - accuracy: 3.8344e-04\n",
      "Epoch 19/50\n",
      "82/82 [==============================] - 104s 1s/step - loss: 0.0058 - accuracy: 3.8344e-04\n",
      "Epoch 20/50\n",
      "82/82 [==============================] - 77s 940ms/step - loss: 0.0058 - accuracy: 3.8344e-04\n",
      "Epoch 21/50\n",
      "82/82 [==============================] - 83s 1s/step - loss: 0.0057 - accuracy: 3.8344e-04\n",
      "Epoch 22/50\n",
      "82/82 [==============================] - 77s 933ms/step - loss: 0.0055 - accuracy: 3.7960e-04\n",
      "Epoch 23/50\n",
      "82/82 [==============================] - 79s 962ms/step - loss: 0.0056 - accuracy: 3.8344e-04\n",
      "Epoch 24/50\n",
      "82/82 [==============================] - 107s 1s/step - loss: 0.0055 - accuracy: 3.8344e-04\n",
      "Epoch 25/50\n",
      "82/82 [==============================] - 104s 1s/step - loss: 0.0056 - accuracy: 3.8344e-04\n",
      "Epoch 26/50\n",
      "82/82 [==============================] - 78s 951ms/step - loss: 0.0054 - accuracy: 3.8344e-04\n",
      "Epoch 27/50\n",
      "82/82 [==============================] - 80s 976ms/step - loss: 0.0053 - accuracy: 3.8344e-04\n",
      "Epoch 28/50\n",
      "82/82 [==============================] - 77s 935ms/step - loss: 0.0053 - accuracy: 3.8344e-04\n",
      "Epoch 29/50\n",
      "82/82 [==============================] - 77s 938ms/step - loss: 0.0053 - accuracy: 3.8344e-04\n",
      "Epoch 30/50\n",
      "82/82 [==============================] - 77s 934ms/step - loss: 0.0053 - accuracy: 3.8344e-04\n",
      "Epoch 31/50\n",
      "82/82 [==============================] - 78s 952ms/step - loss: 0.0054 - accuracy: 3.8344e-04\n",
      "Epoch 32/50\n",
      "82/82 [==============================] - 77s 933ms/step - loss: 0.0091 - accuracy: 3.8344e-04\n",
      "Epoch 33/50\n",
      "82/82 [==============================] - 76s 928ms/step - loss: 2239669504.0000 - accuracy: 0.0000e+00\n",
      "Epoch 34/50\n",
      "82/82 [==============================] - 76s 926ms/step - loss: 0.1653 - accuracy: 3.8344e-05\n",
      "Epoch 35/50\n",
      "82/82 [==============================] - 77s 932ms/step - loss: 0.0975 - accuracy: 0.0000e+00\n",
      "Epoch 36/50\n",
      "82/82 [==============================] - 76s 928ms/step - loss: 0.0906 - accuracy: 0.0000e+00\n",
      "Epoch 37/50\n",
      "82/82 [==============================] - 76s 928ms/step - loss: 0.0839 - accuracy: 0.0000e+00\n",
      "Epoch 38/50\n",
      "82/82 [==============================] - 76s 931ms/step - loss: 0.0765 - accuracy: 0.0000e+00\n",
      "Epoch 39/50\n",
      "82/82 [==============================] - 77s 935ms/step - loss: 0.0558 - accuracy: 3.3359e-04\n",
      "Epoch 40/50\n",
      "82/82 [==============================] - 76s 929ms/step - loss: 0.0321 - accuracy: 3.1058e-04\n",
      "Epoch 41/50\n",
      "82/82 [==============================] - 76s 924ms/step - loss: 0.0267 - accuracy: 2.9908e-04\n",
      "Epoch 42/50\n",
      "82/82 [==============================] - 76s 928ms/step - loss: 0.0215 - accuracy: 3.2975e-04\n",
      "Epoch 43/50\n",
      "82/82 [==============================] - 79s 958ms/step - loss: 0.0180 - accuracy: 3.6043e-04\n",
      "Epoch 44/50\n",
      "82/82 [==============================] - 77s 938ms/step - loss: 0.0161 - accuracy: 3.6810e-04\n",
      "Epoch 45/50\n",
      "82/82 [==============================] - 77s 935ms/step - loss: 0.0148 - accuracy: 3.7193e-04\n",
      "Epoch 46/50\n",
      "82/82 [==============================] - 77s 943ms/step - loss: 0.0138 - accuracy: 3.7193e-04\n",
      "Epoch 47/50\n",
      "82/82 [==============================] - 79s 963ms/step - loss: 0.0132 - accuracy: 3.6810e-04\n",
      "Epoch 48/50\n",
      "82/82 [==============================] - 76s 926ms/step - loss: 0.0126 - accuracy: 3.7577e-04\n",
      "Epoch 49/50\n",
      "82/82 [==============================] - 76s 925ms/step - loss: 0.0121 - accuracy: 3.7577e-04\n",
      "Epoch 50/50\n",
      "82/82 [==============================] - 81s 982ms/step - loss: 0.0113 - accuracy: 3.7577e-04\n"
     ]
    },
    {
     "data": {
      "text/plain": [
       "<keras.callbacks.History at 0x7fedf2463520>"
      ]
     },
     "execution_count": 33,
     "metadata": {},
     "output_type": "execute_result"
    }
   ],
   "source": [
    "model.compile(optimizer='adam', loss='mean_squared_error', metrics=[\"accuracy\"])\n",
    "model.fit(X_train,y_train, epochs=50)"
   ]
  },
  {
   "cell_type": "code",
   "execution_count": 34,
   "metadata": {},
   "outputs": [],
   "source": [
    "# Save the model\n",
    "model.save('stock_price_prediction_model_3.h5')"
   ]
  },
  {
   "cell_type": "code",
   "execution_count": 56,
   "metadata": {},
   "outputs": [],
   "source": [
    "past_100_days = data_testing.tail(100)"
   ]
  },
  {
   "cell_type": "code",
   "execution_count": 57,
   "metadata": {},
   "outputs": [],
   "source": [
    "final_df = past_100_days.append(data_testing, ignore_index=True)"
   ]
  },
  {
   "cell_type": "code",
   "execution_count": null,
   "metadata": {},
   "outputs": [],
   "source": [
    "final_df.head()"
   ]
  },
  {
   "cell_type": "code",
   "execution_count": 59,
   "metadata": {},
   "outputs": [
    {
     "data": {
      "text/plain": [
       "(855, 1)"
      ]
     },
     "execution_count": 59,
     "metadata": {},
     "output_type": "execute_result"
    }
   ],
   "source": [
    "input_data = scaler.fit_transform(final_df)\n",
    "input_data.shape"
   ]
  },
  {
   "cell_type": "code",
   "execution_count": 60,
   "metadata": {},
   "outputs": [],
   "source": [
    "X_test = []\n",
    "y_test = []\n",
    "\n",
    "for i in range(100, input_data.shape[0]):\n",
    "    X_test.append(input_data[i-100:i])\n",
    "    y_test.append(input_data[i,0])"
   ]
  },
  {
   "cell_type": "code",
   "execution_count": 76,
   "metadata": {},
   "outputs": [
    {
     "name": "stdout",
     "output_type": "stream",
     "text": [
      "(755, 100, 1)\n",
      "(755,)\n"
     ]
    }
   ],
   "source": [
    "X_test, y_test = np.array(X_test), np.array(y_test)\n",
    "print(X_test.shape)\n",
    "print(y_test.shape)"
   ]
  },
  {
   "cell_type": "code",
   "execution_count": 82,
   "metadata": {},
   "outputs": [],
   "source": [
    "# Making prediction\n",
    "y_predicted = model.predict(X_test)"
   ]
  },
  {
   "cell_type": "code",
   "execution_count": null,
   "metadata": {},
   "outputs": [],
   "source": [
    "y_predicted.shape\n"
   ]
  },
  {
   "cell_type": "code",
   "execution_count": null,
   "metadata": {},
   "outputs": [],
   "source": [
    "# Get the factor by which the values are scaled down\n",
    "scaler.scale_"
   ]
  },
  {
   "cell_type": "code",
   "execution_count": null,
   "metadata": {},
   "outputs": [],
   "source": [
    "scale_factor=1/scaler\n",
    "y_predicted=y_predicted*scale_factor\n",
    "y_test=y_test*scale_factor\n",
    "\n",
    "y_predicted"
   ]
  },
  {
   "cell_type": "code",
   "execution_count": null,
   "metadata": {},
   "outputs": [],
   "source": [
    "plt.figure(figsize=(12,6))\n",
    "plt.plot(y_test, 'b', label='Original price')\n",
    "plt.plot(y_predicted, 'r', label='Predicted price')\n",
    "plt.xlabel('Time')\n",
    "plt.ylabel('Price')\n",
    "plt.legend()\n",
    "plt.show()\n"
   ]
  },
  {
   "cell_type": "code",
   "execution_count": 12,
   "metadata": {},
   "outputs": [
    {
     "name": "stdout",
     "output_type": "stream",
     "text": [
      "WARNING:tensorflow:Model was constructed with shape (None, 100, 1) for input KerasTensor(type_spec=TensorSpec(shape=(None, 100, 1), dtype=tf.float32, name='lstm_input'), name='lstm_input', description=\"created by layer 'lstm_input'\"), but it was called on an input with incompatible shape (32, 30, 1).\n",
      "1568\n",
      "1568\n",
      "The average is 436.05167\n",
      "The current price is 421.5827\n",
      "BUY\n"
     ]
    },
    {
     "data": {
      "image/png": "[encoded data removed]",
      "text/plain": [
       "<Figure size 1008x432 with 1 Axes>"
      ]
     },
     "metadata": {
      "needs_background": "light"
     },
     "output_type": "display_data"
    }
   ],
   "source": [
    "from keras.models import load_model\n",
    "from sklearn.preprocessing import MinMaxScaler\n",
    "import numpy as np\n",
    "\n",
    "start = '2000-01-01'\n",
    "end = '2021-10-26'\n",
    "\n",
    "df = data.DataReader('TECH', 'yahoo', start, end)\n",
    "\n",
    "data_training = pd.DataFrame(df['Close'][0:int(len(df)*0.01)])\n",
    "data_testing = pd.DataFrame(df['Close'][int(len(df)*0.70):int(len(df))])\n",
    "\n",
    "scaler = MinMaxScaler(feature_range=(0, 1))\n",
    "\n",
    "data_training_array = scaler.fit_transform(data_training)\n",
    "\n",
    "# Load model\n",
    "model = load_model('stock_price_prediction_model_4.h5')\n",
    "\n",
    "past_30_days=data_training.tail(20)\n",
    "\n",
    "final_df = past_30_days.append(data_testing, ignore_index=True)\n",
    "\n",
    "input_data = scaler.fit_transform(final_df)\n",
    "\n",
    "X_test = []\n",
    "y_test = []\n",
    "\n",
    "for i in range(100, input_data.shape[0]):\n",
    "    X_test.append(input_data[i-30: i])\n",
    "    y_test.append(input_data[i,0])\n",
    "\n",
    "X_test, y_test = np.array(X_test), np.array(y_test)\n",
    "y_predicted = model.predict(X_test)\n",
    "\n",
    "print(len(y_predicted))\n",
    "print(len(y_test))\n",
    "\n",
    "scaler=scaler.scale_\n",
    "scale_factor=1/scaler[0]\n",
    "\n",
    "y_predicted=y_predicted*scale_factor\n",
    "y_test=y_test*scale_factor\n",
    "\n",
    "n = 0\n",
    "y_predicted = y_predicted[:, n, n]\n",
    "\n",
    "values=y_predicted[-20:]\n",
    "predicted_average=np.mean(values)\n",
    "print(\"The average is\",predicted_average)\n",
    "\n",
    "current=y_predicted[-21]\n",
    "print(\"The current price is\",current)\n",
    "\n",
    "if current>predicted_average:\n",
    "  print(\"SELL\")\n",
    "\n",
    "elif current<predicted_average:\n",
    "  print(\"BUY\")\n",
    "\n",
    "else:\n",
    "  print(\"NEUTRAL\")\n",
    "\n",
    "plt.figure(figsize=(14,6))\n",
    "plt.plot(y_test, 'b', label='Original price')\n",
    "plt.plot(y_predicted, 'r', label='Predicted price')\n",
    "plt.xlabel('Time')\n",
    "plt.ylabel('Price')\n",
    "plt.legend()\n",
    "plt.show()"
   ]
  },
  {
   "cell_type": "markdown",
   "metadata": {},
   "source": [
    "    ^NSEI = BUY\n",
    "    AAPL = SELL\n",
    "    GOOGL = BUY\n",
    "    TSLA  = BUY\n",
    "    NSEI = BUY\n",
    "    ADSK = SELL\n",
    "    ADM = SELL\n",
    "    AEE = SELL\n",
    "    BRO = BUY\n",
    "    CAH = SELL\n",
    "    CBOE = SELL\n",
    "    TECH = BUY\n",
    "\n",
    "\n",
    "    Some other models\n",
    "\n",
    "    i.  stock_price_prediction_model_1.h5\n",
    "    ii.  stock_price_prediction_model_2.h5\n",
    "    iii.  stock_price_prediction_model_3.h5\n",
    "    iv.  stock_price_prediction_model_4.h5  <!-- recommended -->\n",
    "    v.  keras_first_model.h5\n",
    "    vi. keras_second_model.h5"
   ]
  }
 ],
 "metadata": {
  "interpreter": {
   "hash": "d6d06472a110b9b5e87d023ee66c62bd153be1407b356e16317c1e69d468e681"
  },
  "kernelspec": {
   "display_name": "Python 3.8.8 64-bit ('base': conda)",
   "name": "python3"
  },
  "language_info": {
   "codemirror_mode": {
    "name": "ipython",
    "version": 3
   },
   "file_extension": ".py",
   "mimetype": "text/x-python",
   "name": "python",
   "nbconvert_exporter": "python",
   "pygments_lexer": "ipython3",
   "version": "3.8.8"
  }
 },
 "nbformat": 4,
 "nbformat_minor": 5
}
